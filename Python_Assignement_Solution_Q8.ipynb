{
  "nbformat": 4,
  "nbformat_minor": 0,
  "metadata": {
    "colab": {
      "provenance": [],
      "authorship_tag": "ABX9TyMZJLHa7jhO+O9+VbFyyFYc",
      "include_colab_link": true
    },
    "kernelspec": {
      "name": "python3",
      "display_name": "Python 3"
    },
    "language_info": {
      "name": "python"
    }
  },
  "cells": [
    {
      "cell_type": "markdown",
      "metadata": {
        "id": "view-in-github",
        "colab_type": "text"
      },
      "source": [
        "<a href=\"https://colab.research.google.com/github/De-Coder05/Python-Basics-Assignement/blob/main/Python_Assignement_Solution_Q8.ipynb\" target=\"_parent\"><img src=\"https://colab.research.google.com/assets/colab-badge.svg\" alt=\"Open In Colab\"/></a>"
      ]
    },
    {
      "cell_type": "code",
      "execution_count": 2,
      "metadata": {
        "colab": {
          "base_uri": "https://localhost:8080/"
        },
        "id": "MzvQr8vAbhR-",
        "outputId": "f5867f32-e623-4021-8206-dc308c602546"
      },
      "outputs": [
        {
          "output_type": "stream",
          "name": "stdout",
          "text": [
            "File Written Successfully\n"
          ]
        }
      ],
      "source": [
        "L=[\"One\",\"Two\",\"Three\",\"Four\",\"Five\"]\n",
        "fp=open(\"trial2.txt\",'w')\n",
        "for i in L:\n",
        "    fp.write(i)\n",
        "    fp.write(\", \")\n",
        "    fp.write(str(len(i)))\n",
        "    fp.write(\"\\n\")\n",
        "fp.close()\n",
        "print(\"File Written Successfully\")"
      ]
    }
  ]
}