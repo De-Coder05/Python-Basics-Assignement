{
  "nbformat": 4,
  "nbformat_minor": 0,
  "metadata": {
    "colab": {
      "provenance": [],
      "authorship_tag": "ABX9TyOS1u/ZbUkRgKmnXhjj895A",
      "include_colab_link": true
    },
    "kernelspec": {
      "name": "python3",
      "display_name": "Python 3"
    },
    "language_info": {
      "name": "python"
    }
  },
  "cells": [
    {
      "cell_type": "markdown",
      "metadata": {
        "id": "view-in-github",
        "colab_type": "text"
      },
      "source": [
        "<a href=\"https://colab.research.google.com/github/De-Coder05/Python-Basics-Assignement/blob/main/Python_Assignement_Solution_Q3.ipynb\" target=\"_parent\"><img src=\"https://colab.research.google.com/assets/colab-badge.svg\" alt=\"Open In Colab\"/></a>"
      ]
    },
    {
      "cell_type": "code",
      "execution_count": 4,
      "metadata": {
        "colab": {
          "base_uri": "https://localhost:8080/"
        },
        "id": "vFrKmMWeSiq6",
        "outputId": "6f132b99-cab3-4ab0-a7e7-137cd252502e"
      },
      "outputs": [
        {
          "output_type": "stream",
          "name": "stdout",
          "text": [
            "Set After adding elements :  {66, 40, 10, 50, 20, 55, 60, 30}\n",
            "Set after removing elements :  {66, 40, 50, 20, 55, 60}\n",
            "Is 40 present in the set :  True\n",
            "The union of the two sets is :  {66, 70, 40, 80, 50, 20, 55, 90, 60}\n",
            "The intersection of the two sets is :  {40, 50, 60}\n",
            "S1-S2 :  {66, 20, 55}\n"
          ]
        }
      ],
      "source": [
        "S1=set([10,20,30,40,50,60])\n",
        "S2=set([40,50,60,70,80,90])\n",
        "\n",
        "S1.add(55)                                                                 # (i)\n",
        "S1.add(66)\n",
        "print(\"Set After adding elements : \",S1)\n",
        "\n",
        "S1.remove(10)                                                             # (ii)\n",
        "S1.remove(30)\n",
        "print(\"Set after removing elements : \",S1)\n",
        "\n",
        "print(\"Is 40 present in the set : \",40 in S1)                            # (iii)\n",
        "\n",
        "print(\"The union of the two sets is : \",S1.union(S2))                     # (iv)\n",
        "\n",
        "print(\"The intersection of the two sets is : \",S2.intersection(S1))        # (v)\n",
        "\n",
        "print(\"S1-S2 : \",S1-S2)                                                   # (vi)"
      ]
    }
  ]
}