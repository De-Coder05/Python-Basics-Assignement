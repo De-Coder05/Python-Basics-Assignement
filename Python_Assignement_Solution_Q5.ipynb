{
  "nbformat": 4,
  "nbformat_minor": 0,
  "metadata": {
    "colab": {
      "provenance": [],
      "authorship_tag": "ABX9TyO5b1x//vlTQFLYxuTMn/W0",
      "include_colab_link": true
    },
    "kernelspec": {
      "name": "python3",
      "display_name": "Python 3"
    },
    "language_info": {
      "name": "python"
    }
  },
  "cells": [
    {
      "cell_type": "markdown",
      "metadata": {
        "id": "view-in-github",
        "colab_type": "text"
      },
      "source": [
        "<a href=\"https://colab.research.google.com/github/De-Coder05/Python-Basics-Assignement/blob/main/Python_Assignement_Solution_Q5.ipynb\" target=\"_parent\"><img src=\"https://colab.research.google.com/assets/colab-badge.svg\" alt=\"Open In Colab\"/></a>"
      ]
    },
    {
      "cell_type": "code",
      "execution_count": 1,
      "metadata": {
        "colab": {
          "base_uri": "https://localhost:8080/"
        },
        "id": "u4oCDLj2WUIu",
        "outputId": "608cfc89-89be-4d74-9afa-1cfa0928bcc1"
      },
      "outputs": [
        {
          "output_type": "stream",
          "name": "stdout",
          "text": [
            "[16, 24, 13, 18, 14, 16, 22, 25, 10, 18]\n",
            "[12, 10, 25, 26, 27, 25, 24, 16, 16, 11]\n",
            "Common elements:  [16, 24, 10, 25]\n",
            "Unique elements are, 1st list :  [18, 13, 14, 22]  and  2nd list:  [27, 26, 11, 12]\n",
            "Max for 1st list is :  25 and 2nd list is :  27\n",
            "Min for 1st list is :  10 and 2nd list is :  10\n",
            "The sum of both the lists is :  368\n"
          ]
        }
      ],
      "source": [
        "import random as r\n",
        "l1=[]\n",
        "l2=[]\n",
        "for i in range(10):\n",
        "    l1.append(r.randint(10,30))\n",
        "    l2.append(r.randint(10,30))\n",
        "print(l1)\n",
        "print(l2)\n",
        "a=set(l1)\n",
        "b=set(l2)\n",
        "\n",
        "print(\"Common elements: \",list(a.intersection(b)))                                      # (i)\n",
        "\n",
        "print(\"Unique elements are, 1st list : \",list(a-b),\" and  2nd list: \",list(b-a))        # (ii)\n",
        "\n",
        "print(\"Max for 1st list is : \",max(a),\"and 2nd list is : \",max(b))                      # (iii)\n",
        "\n",
        "print(\"Min for 1st list is : \",min(a),\"and 2nd list is : \",min(b))                      # (iv)\n",
        "\n",
        "print(\"The sum of both the lists is : \",sum(l1+l2))                                     # (v)\n",
        "\n",
        "\n"
      ]
    }
  ]
}