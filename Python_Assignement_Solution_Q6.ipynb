{
  "nbformat": 4,
  "nbformat_minor": 0,
  "metadata": {
    "colab": {
      "provenance": [],
      "authorship_tag": "ABX9TyMwBvFaGCSRc9YjhPwkmkBV",
      "include_colab_link": true
    },
    "kernelspec": {
      "name": "python3",
      "display_name": "Python 3"
    },
    "language_info": {
      "name": "python"
    }
  },
  "cells": [
    {
      "cell_type": "markdown",
      "metadata": {
        "id": "view-in-github",
        "colab_type": "text"
      },
      "source": [
        "<a href=\"https://colab.research.google.com/github/De-Coder05/Python-Basics-Assignement/blob/main/Python_Assignement_Solution_Q6.ipynb\" target=\"_parent\"><img src=\"https://colab.research.google.com/assets/colab-badge.svg\" alt=\"Open In Colab\"/></a>"
      ]
    },
    {
      "cell_type": "code",
      "execution_count": 2,
      "metadata": {
        "colab": {
          "base_uri": "https://localhost:8080/"
        },
        "id": "eGdNi7biYi90",
        "outputId": "0d239a75-4524-486f-8aa8-ce2d17b01523"
      },
      "outputs": [
        {
          "output_type": "stream",
          "name": "stdout",
          "text": [
            "[897, 766, 856, 486, 569, 644, 806, 813, 423, 171, 564, 533, 188, 362, 750, 852, 574, 780, 119, 579, 641, 249, 285, 146, 157, 545, 692, 892, 171, 238, 490, 888, 105, 795, 124, 838, 529, 202, 229, 432, 643, 395, 312, 315, 880, 897, 824, 669, 269, 648, 794, 404, 401, 207, 376, 170, 466, 792, 567, 392, 842, 329, 447, 343, 101, 790, 806, 675, 314, 233, 483, 197, 787, 368, 836, 422, 254, 397, 580, 361, 795, 202, 571, 880, 720, 605, 377, 455, 353, 129, 567, 650, 843, 625, 159, 621, 136, 125, 847, 540]\n",
            "List of odd numbers :  [897, 569, 813, 423, 171, 533, 119, 579, 641, 249, 285, 157, 545, 171, 105, 795, 529, 229, 643, 395, 315, 897, 669, 269, 401, 207, 567, 329, 447, 343, 101, 675, 233, 483, 197, 787, 397, 361, 795, 571, 605, 377, 455, 353, 129, 567, 843, 625, 159, 621, 125, 847]\n",
            "List of even numbers :  [766, 856, 486, 644, 806, 564, 188, 362, 750, 852, 574, 780, 146, 692, 892, 238, 490, 888, 124, 838, 202, 432, 312, 880, 824, 648, 794, 404, 376, 170, 466, 792, 392, 842, 790, 806, 314, 368, 836, 422, 254, 580, 202, 880, 720, 650, 136, 540]\n",
            "List of prime numbers :  [569, 641, 157, 229, 643, 269, 401, 101, 233, 197, 787, 397, 571, 353]\n"
          ]
        }
      ],
      "source": [
        "import random as r\n",
        "def prime(n):\n",
        "    flag=0\n",
        "    for a in range(2,n//2 + 1):\n",
        "        if n%a==0:\n",
        "            flag=1\n",
        "            break\n",
        "        else:\n",
        "            flag=0\n",
        "    if flag==0:\n",
        "        return 1\n",
        "    else:\n",
        "        return 0\n",
        "L=[]\n",
        "oddno=[]\n",
        "evenno=[]\n",
        "primeno=[]\n",
        "for i in range(100):\n",
        "    L.append(r.randint(100,900))\n",
        "print(L)\n",
        "\n",
        "for x in L:\n",
        "    if x%2!=0:\n",
        "        oddno.append(x)                                                    # (i)\n",
        "    else:\n",
        "        evenno.append(x)                                                  # (ii)\n",
        "print(\"List of odd numbers : \",oddno)\n",
        "print(\"List of even numbers : \",evenno)\n",
        "\n",
        "for y in L:                                                              # (iii)\n",
        "    if prime(y)==1:\n",
        "        primeno.append(y)\n",
        "print(\"List of prime numbers : \",primeno)\n",
        "\n",
        "\n",
        "\n"
      ]
    }
  ]
}