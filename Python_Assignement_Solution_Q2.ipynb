{
  "nbformat": 4,
  "nbformat_minor": 0,
  "metadata": {
    "colab": {
      "provenance": [],
      "authorship_tag": "ABX9TyOIE42Bqc/KpVeTuMaw+T0V",
      "include_colab_link": true
    },
    "kernelspec": {
      "name": "python3",
      "display_name": "Python 3"
    },
    "language_info": {
      "name": "python"
    }
  },
  "cells": [
    {
      "cell_type": "markdown",
      "metadata": {
        "id": "view-in-github",
        "colab_type": "text"
      },
      "source": [
        "<a href=\"https://colab.research.google.com/github/De-Coder05/Python-Basics-Assignement/blob/main/Python_Assignement_Solution_Q2.ipynb\" target=\"_parent\"><img src=\"https://colab.research.google.com/assets/colab-badge.svg\" alt=\"Open In Colab\"/></a>"
      ]
    },
    {
      "cell_type": "code",
      "execution_count": 3,
      "metadata": {
        "colab": {
          "base_uri": "https://localhost:8080/"
        },
        "id": "8WfgE8yIPySv",
        "outputId": "6434426f-724c-4e75-892c-9a6bea34b333"
      },
      "outputs": [
        {
          "output_type": "stream",
          "name": "stdout",
          "text": [
            "Dict after appending a new key-value pair :  {1: 5.6, 2: 7.8, 3: 6.6, 4: 8.7, 5: 7.7, 8: 8.8}\n",
            "Dict after removing a key-value pair :  {1: 5.6, 3: 6.6, 4: 8.7, 5: 7.7, 8: 8.8}\n",
            "Is key 6 present in the dictionary? :  False\n",
            "The number of key-value pairs in the dict are :  5\n",
            "The sum of values in the dictionary are :  37.4\n",
            "Dict after updation :  {1: 5.6, 3: 7.1, 4: 8.7, 5: 7.7, 8: 8.8}\n"
          ]
        }
      ],
      "source": [
        "D={1:5.6,2:7.8,3:6.6,4:8.7,5:7.7}\n",
        "\n",
        "D[8]=8.8                                                                    #(i)\n",
        "print(\"Dict after appending a new key-value pair : \",D)\n",
        "\n",
        "del D[2]                                                                  # (ii)\n",
        "print(\"Dict after removing a key-value pair : \",D)\n",
        "\n",
        "print(\"Is key 6 present in the dictionary? : \",6 in D)                   # (iii)\n",
        "\n",
        "print(\"The number of key-value pairs in the dict are : \",len(D))          # (iv)\n",
        "\n",
        "s=0                                                                        # (v)\n",
        "for i in dict.values(D):\n",
        "    s=s+i\n",
        "print(\"The sum of values in the dictionary are : \",s)\n",
        "\n",
        "D[3]=7.1                                                                  # (vi)\n",
        "print(\"Dict after updation : \",D)\n",
        "\n",
        "del D                                                                    # (vii)\n",
        "#print(D)\n",
        "\n",
        "\n"
      ]
    }
  ]
}