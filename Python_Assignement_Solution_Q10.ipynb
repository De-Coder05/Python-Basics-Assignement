{
  "nbformat": 4,
  "nbformat_minor": 0,
  "metadata": {
    "colab": {
      "provenance": [],
      "authorship_tag": "ABX9TyNO5bzr/L+qiCGwPPEpbiwC",
      "include_colab_link": true
    },
    "kernelspec": {
      "name": "python3",
      "display_name": "Python 3"
    },
    "language_info": {
      "name": "python"
    }
  },
  "cells": [
    {
      "cell_type": "markdown",
      "metadata": {
        "id": "view-in-github",
        "colab_type": "text"
      },
      "source": [
        "<a href=\"https://colab.research.google.com/github/De-Coder05/Python-Basics-Assignement/blob/main/Python_Assignement_Solution_Q10.ipynb\" target=\"_parent\"><img src=\"https://colab.research.google.com/assets/colab-badge.svg\" alt=\"Open In Colab\"/></a>"
      ]
    },
    {
      "cell_type": "code",
      "execution_count": 2,
      "metadata": {
        "colab": {
          "base_uri": "https://localhost:8080/"
        },
        "id": "N7JSofo7ckj9",
        "outputId": "dc74a073-122e-4535-a4ba-cf29a000d732"
      },
      "outputs": [
        {
          "output_type": "stream",
          "name": "stdout",
          "text": [
            "File Written Successfully\n"
          ]
        }
      ],
      "source": [
        "fp=open(\"trial4.txt\",'w')\n",
        "def prime(n):\n",
        "    for a in range(2,n//2 + 1):\n",
        "        if n%a==0:\n",
        "            flag=1\n",
        "            break\n",
        "        else:\n",
        "            flag=0\n",
        "    if flag==0:\n",
        "        return 1\n",
        "    else:\n",
        "        return 0\n",
        "\n",
        "for i in range(600,800):\n",
        "    if prime(i)==1:\n",
        "        fp.write(str(i))\n",
        "fp.close()\n",
        "print(\"File Written Successfully\")"
      ]
    }
  ]
}