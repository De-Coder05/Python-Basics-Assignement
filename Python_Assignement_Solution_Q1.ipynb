{
  "nbformat": 4,
  "nbformat_minor": 0,
  "metadata": {
    "colab": {
      "provenance": [],
      "authorship_tag": "ABX9TyNX9WVuNc83+KdEMhuw4uYp",
      "include_colab_link": true
    },
    "kernelspec": {
      "name": "python3",
      "display_name": "Python 3"
    },
    "language_info": {
      "name": "python"
    }
  },
  "cells": [
    {
      "cell_type": "markdown",
      "metadata": {
        "id": "view-in-github",
        "colab_type": "text"
      },
      "source": [
        "<a href=\"https://colab.research.google.com/github/De-Coder05/Python-Basics-Assignement/blob/main/Python_Assignement_Solution_Q1.ipynb\" target=\"_parent\"><img src=\"https://colab.research.google.com/assets/colab-badge.svg\" alt=\"Open In Colab\"/></a>"
      ]
    },
    {
      "cell_type": "code",
      "execution_count": 2,
      "metadata": {
        "colab": {
          "base_uri": "https://localhost:8080/"
        },
        "id": "vhFgWJXzK9w0",
        "outputId": "1e07ac54-5ebe-44db-80b5-db2013405c7b"
      },
      "outputs": [
        {
          "output_type": "stream",
          "name": "stdout",
          "text": [
            "The Given List Is :  [11, 12, 13, 14]\n",
            "Appended List is :  [11, 12, 13, 14, 50, 60]\n",
            "List after removal of elements is :  [12, 14, 50, 60]\n",
            "List sorted in ascending order is :  [12, 14, 50, 60]\n",
            "List sorted in reverse order is :  [60, 50, 14, 12]\n",
            "Element not found\n",
            "The number of elements in the list are :  4\n",
            "The sum of elements in the list is :  136\n",
            "The sum of Even elements in the list is :  136\n",
            "The sum of Odd elements in the list is :  0\n",
            "The sum of all the prime numbers in the list is :  0\n",
            "[]\n"
          ]
        }
      ],
      "source": [
        "L=[11,12,13,14]\n",
        "print(\"The Given List Is : \",L)\n",
        "\n",
        "L.append(50)                                                               # (i)\n",
        "L.append(60)\n",
        "print(\"Appended List is : \",L)\n",
        "\n",
        "L.remove(11)                                                              # (ii)\n",
        "L.remove(13)\n",
        "print(\"List after removal of elements is : \",L)\n",
        "\n",
        "L.sort()                                                                 # (iii)\n",
        "print(\"List sorted in ascending order is : \",L)\n",
        "\n",
        "L.sort(reverse=True)                                                      # (iv)\n",
        "print(\"List sorted in reverse order is : \",L)\n",
        "\n",
        "for i in L:                                                                # (v)\n",
        "    if i==13:\n",
        "        flag=1\n",
        "    else:\n",
        "        flag=0\n",
        "if flag==1:\n",
        "    print(\"Element Found\")\n",
        "else:\n",
        "    print(\"Element not found\")\n",
        "\n",
        "print(\"The number of elements in the list are : \",len(L))                 # (vi)\n",
        "\n",
        "s=0                                                                      # (vii)\n",
        "for i in L:\n",
        "    s=s+i\n",
        "print(\"The sum of elements in the list is : \",s)\n",
        "\n",
        "a=0                                                              # (viii) & (ix)\n",
        "b=0\n",
        "for i in L:\n",
        "    if i%2==0:\n",
        "        a=a+i\n",
        "    else:\n",
        "        b=b+i\n",
        "print(\"The sum of Even elements in the list is : \",a)\n",
        "print(\"The sum of Odd elements in the list is : \",b)\n",
        "\n",
        "c=0                                                                        # (x)\n",
        "for i in L:\n",
        "    for j in range(2,i//2 + 1):\n",
        "        if i%j==0:\n",
        "            flag=1\n",
        "            break\n",
        "        else:\n",
        "            flag=0\n",
        "    if flag==0:\n",
        "        c=c+i\n",
        "print(\"The sum of all the prime numbers in the list is : \",c)\n",
        "\n",
        "for x in range(len(L)):                                                   # (xi)\n",
        "    del L[0]\n",
        "print(L)\n",
        "\n",
        "del L                                                                    # (xii)\n",
        "#print(L)        #error\n",
        "\n",
        "\n",
        "\n",
        "\n"
      ]
    }
  ]
}