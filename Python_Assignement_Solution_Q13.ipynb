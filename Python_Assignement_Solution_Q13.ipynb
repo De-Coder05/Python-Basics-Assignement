{
  "nbformat": 4,
  "nbformat_minor": 0,
  "metadata": {
    "colab": {
      "provenance": [],
      "authorship_tag": "ABX9TyO77hln92IpBvGNJCsRIee1",
      "include_colab_link": true
    },
    "kernelspec": {
      "name": "python3",
      "display_name": "Python 3"
    },
    "language_info": {
      "name": "python"
    }
  },
  "cells": [
    {
      "cell_type": "markdown",
      "metadata": {
        "id": "view-in-github",
        "colab_type": "text"
      },
      "source": [
        "<a href=\"https://colab.research.google.com/github/De-Coder05/Python-Basics-Assignement/blob/main/Python_Assignement_Solution_Q13.ipynb\" target=\"_parent\"><img src=\"https://colab.research.google.com/assets/colab-badge.svg\" alt=\"Open In Colab\"/></a>"
      ]
    },
    {
      "cell_type": "code",
      "execution_count": 9,
      "metadata": {
        "colab": {
          "base_uri": "https://localhost:8080/"
        },
        "id": "N7JSofo7ckj9",
        "outputId": "6d5ceba1-0771-43a3-c5ef-74bd7c275c2d"
      },
      "outputs": [
        {
          "output_type": "stream",
          "name": "stdout",
          "text": [
            "Maximum is :  97\n",
            "Minimum is :  68\n",
            "Average is :  84.4\n"
          ]
        }
      ],
      "source": [
        "D={\"Engineering Drawing\":85,\"Mathematics\":95,\"Mechanics\":77,\"ProffComm\":68,\"Physics\":97}\n",
        "print(\"Maximum is : \",max(dict.values(D)))\n",
        "print(\"Minimum is : \",min(dict.values(D)))\n",
        "print(\"Average is : \",(sum(dict.values(D)))/len(D))\n"
      ]
    }
  ]
}