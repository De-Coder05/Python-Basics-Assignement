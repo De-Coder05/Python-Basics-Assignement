{
  "nbformat": 4,
  "nbformat_minor": 0,
  "metadata": {
    "colab": {
      "provenance": [],
      "authorship_tag": "ABX9TyOyNkFmmpSZCdA48kpB6mp5",
      "include_colab_link": true
    },
    "kernelspec": {
      "name": "python3",
      "display_name": "Python 3"
    },
    "language_info": {
      "name": "python"
    }
  },
  "cells": [
    {
      "cell_type": "markdown",
      "metadata": {
        "id": "view-in-github",
        "colab_type": "text"
      },
      "source": [
        "<a href=\"https://colab.research.google.com/github/De-Coder05/Python-Basics-Assignement/blob/main/Python_Assignement_Solution_Q9.ipynb\" target=\"_parent\"><img src=\"https://colab.research.google.com/assets/colab-badge.svg\" alt=\"Open In Colab\"/></a>"
      ]
    },
    {
      "cell_type": "code",
      "execution_count": 1,
      "metadata": {
        "colab": {
          "base_uri": "https://localhost:8080/"
        },
        "id": "N7JSofo7ckj9",
        "outputId": "72f79dfb-281f-4188-d0be-a508ab30c5fa"
      },
      "outputs": [
        {
          "output_type": "stream",
          "name": "stdout",
          "text": [
            "File Written Successfully\n"
          ]
        }
      ],
      "source": [
        "import string as s\n",
        "import random as r\n",
        "fp=open(\"trial3.txt\",'w')\n",
        "for i in range(100):\n",
        "    pwd=r.sample(s.ascii_letters,r.randint(10,15))\n",
        "    fp.write(\"\".join(pwd))\n",
        "    fp.write(\"\\n\")\n",
        "fp.close()\n",
        "print(\"File Written Successfully\")\n",
        ""
      ]
    }
  ]
}