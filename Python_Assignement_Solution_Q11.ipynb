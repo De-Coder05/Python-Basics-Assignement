{
  "nbformat": 4,
  "nbformat_minor": 0,
  "metadata": {
    "colab": {
      "provenance": [],
      "authorship_tag": "ABX9TyMRo6XVYHC/i7TZG7Dst9Sj",
      "include_colab_link": true
    },
    "kernelspec": {
      "name": "python3",
      "display_name": "Python 3"
    },
    "language_info": {
      "name": "python"
    }
  },
  "cells": [
    {
      "cell_type": "markdown",
      "metadata": {
        "id": "view-in-github",
        "colab_type": "text"
      },
      "source": [
        "<a href=\"https://colab.research.google.com/github/De-Coder05/Python-Basics-Assignement/blob/main/Python_Assignement_Solution_Q11.ipynb\" target=\"_parent\"><img src=\"https://colab.research.google.com/assets/colab-badge.svg\" alt=\"Open In Colab\"/></a>"
      ]
    },
    {
      "cell_type": "code",
      "execution_count": 4,
      "metadata": {
        "colab": {
          "base_uri": "https://localhost:8080/"
        },
        "id": "N7JSofo7ckj9",
        "outputId": "b03fe35f-09b8-4db0-e477-c67fb384947a"
      },
      "outputs": [
        {
          "output_type": "stream",
          "name": "stdout",
          "text": [
            "[1, 2, 3, 4, 5]\n",
            "Time Before the process:  1718532057.023358\n",
            "Time after the process:  1718532057.0300322\n",
            "Time taken for this process:  0.006670475006103516\n"
          ]
        }
      ],
      "source": [
        "import time as t\n",
        "L=[1,2,3,4,5]\n",
        "print(L)\n",
        "a=t.time()\n",
        "print(\"Time Before the process: \",t.time())\n",
        "for i in range(10000):\n",
        "    L.append(i)\n",
        "b=t.time()\n",
        "print(\"Time after the process: \",t.time())\n",
        "print(\"Time taken for this process: \",b-a)"
      ]
    }
  ]
}